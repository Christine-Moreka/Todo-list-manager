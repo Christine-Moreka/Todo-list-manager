{
 "cells": [
  {
   "cell_type": "markdown",
   "id": "d4c8382b-bdbc-4d1f-bbbf-8e19ace51aa8",
   "metadata": {},
   "source": [
    "## To do list manager "
   ]
  },
  {
   "cell_type": "code",
   "execution_count": 1,
   "id": "072c1e0c-862b-4541-8148-c42e2d9f1c9f",
   "metadata": {},
   "outputs": [
    {
     "name": "stdout",
     "output_type": "stream",
     "text": [
      "1. Add Task\n",
      "2. Mark Task as Completed\n",
      "3. List Tasks\n",
      "4. Remove Task\n",
      "5. Exit application\n"
     ]
    },
    {
     "name": "stdin",
     "output_type": "stream",
     "text": [
      "Select an option:  5\n"
     ]
    },
    {
     "name": "stdout",
     "output_type": "stream",
     "text": [
      "Goodbye talk later\n"
     ]
    }
   ],
   "source": [
    "def display_menu():\n",
    "    print(\"1. Add Task\")\n",
    "    print(\"2. Mark Task as Completed\")\n",
    "    print(\"3. List Tasks\")\n",
    "    print(\"4. Remove Task\")\n",
    "    print(\"5. Exit application\")\n",
    "\n",
    "def add_task(tasks):\n",
    "    task_description = input(\"Enter the task description: \")\n",
    "    tasks.append({\"description\": task_description, \"completed\": False})\n",
    "    print(f'Task \"{task_description}\" added.')\n",
    "\n",
    "def mark_task_as_completed(tasks):\n",
    "    list_tasks(tasks)\n",
    "    try:\n",
    "        task_index = int(input(\"Enter the task number to mark as completed: \")) - 1\n",
    "        if 0 <= task_index < len(tasks):\n",
    "            if not tasks[task_index][\"completed\"]:\n",
    "                tasks[task_index][\"completed\"] = True\n",
    "                print(f'Task \"{tasks[task_index][\"description\"]}\" marked as completed.')\n",
    "            else:\n",
    "                print(\"This task is already marked as completed.\")\n",
    "        else:\n",
    "            print(\"Invalid task number.\")\n",
    "    except ValueError:\n",
    "        print(\"Please enter a valid number.\")\n",
    "\n",
    "def list_tasks(tasks):\n",
    "    if tasks:\n",
    "        for i, task in enumerate(tasks, start=1):\n",
    "            status = \"Completed\" if task[\"completed\"] else \"Not Completed\"\n",
    "            print(f'{i}. {task[\"description\"]} - {status}')\n",
    "    else:\n",
    "        print(\"No tasks available.\")\n",
    "\n",
    "def remove_task(tasks):\n",
    "    list_tasks(tasks)\n",
    "    try:\n",
    "        task_index = int(input(\"Enter the task number to remove: \")) - 1\n",
    "        if 0 <= task_index < len(tasks):\n",
    "            removed_task = tasks.pop(task_index)\n",
    "            print(f'Task \"{removed_task[\"description\"]}\" removed.')\n",
    "        else:\n",
    "            print(\"Invalid task number.\")\n",
    "    except ValueError:\n",
    "        print(\"Please enter a valid number.\")\n",
    "\n",
    "def main():\n",
    "    tasks = []\n",
    "    while True:\n",
    "        display_menu()\n",
    "        choice = input(\"Select an option: \")\n",
    "        if choice == \"1\":\n",
    "            add_task(tasks)\n",
    "        elif choice == \"2\":\n",
    "            mark_task_as_completed(tasks)\n",
    "        elif choice == \"3\":\n",
    "            list_tasks(tasks)\n",
    "        elif choice == \"4\":\n",
    "            remove_task(tasks)\n",
    "        elif choice == \"5\":\n",
    "            print(\"Goodbye talk later\")\n",
    "            break\n",
    "        else:\n",
    "            print(\"Invalid choice. Please select a valid option.\")\n",
    "            \n",
    "if __name__ == \"__main__\":\n",
    "    main()"
   ]
  },
  {
   "cell_type": "code",
   "execution_count": null,
   "id": "f1d02ba2-5b16-425c-9d16-1d573feda118",
   "metadata": {},
   "outputs": [],
   "source": []
  }
 ],
 "metadata": {
  "kernelspec": {
   "display_name": "Python 3 (ipykernel)",
   "language": "python",
   "name": "python3"
  },
  "language_info": {
   "codemirror_mode": {
    "name": "ipython",
    "version": 3
   },
   "file_extension": ".py",
   "mimetype": "text/x-python",
   "name": "python",
   "nbconvert_exporter": "python",
   "pygments_lexer": "ipython3",
   "version": "3.11.7"
  }
 },
 "nbformat": 4,
 "nbformat_minor": 5
}
